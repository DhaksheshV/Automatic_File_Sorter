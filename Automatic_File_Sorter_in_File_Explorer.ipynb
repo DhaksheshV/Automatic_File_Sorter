{
 "cells": [
  {
   "cell_type": "markdown",
   "id": "06b62df6-77a4-4444-97a1-695e6bead724",
   "metadata": {},
   "source": [
    "Automatic File Sorter in File Explorer"
   ]
  },
  {
   "cell_type": "code",
   "execution_count": 1,
   "id": "c84d532c-9858-4a4f-adc2-0f51c23a010a",
   "metadata": {},
   "outputs": [],
   "source": [
    "import os, shutil"
   ]
  },
  {
   "cell_type": "code",
   "execution_count": 6,
   "id": "d0b86e9f-6bca-47af-a3b1-1a04d9026b47",
   "metadata": {},
   "outputs": [],
   "source": [
    "path = r\"D:/AFS Sample/\""
   ]
  },
  {
   "cell_type": "code",
   "execution_count": 16,
   "id": "8b895303-e5ed-4d37-bc33-07953ffa5c5f",
   "metadata": {},
   "outputs": [
    {
     "data": {
      "text/plain": [
       "['ANITHA SELVI.docx',\n",
       " 'Bulk SMS WhatsApp Worksheet.csv',\n",
       " 'csv files',\n",
       " 'image files',\n",
       " 'IMG20210629173936.jpg',\n",
       " 'IMG_20210704_095506.jpg',\n",
       " 'text files']"
      ]
     },
     "execution_count": 16,
     "metadata": {},
     "output_type": "execute_result"
    }
   ],
   "source": [
    "os.listdir(path)"
   ]
  },
  {
   "cell_type": "code",
   "execution_count": 17,
   "id": "49c13783-4077-4337-ac00-d96459b3649c",
   "metadata": {},
   "outputs": [],
   "source": [
    "file_name = os.listdir(path)"
   ]
  },
  {
   "cell_type": "code",
   "execution_count": 11,
   "id": "70ecf14a-1301-439b-a153-8f365f8ffe21",
   "metadata": {},
   "outputs": [],
   "source": [
    "folder_names = ['csv files','image files', 'text files']\n",
    "for loop in range(0,3):\n",
    "    if not os.path.exists(path + folder_names[loop]):\n",
    "        print(path + folder_names[loop])\n",
    "        os.makedirs(path + folder_names[loop])"
   ]
  },
  {
   "cell_type": "code",
   "execution_count": 19,
   "id": "fd6dbc5a-eb80-4ff1-95c7-aae35a0e77d9",
   "metadata": {},
   "outputs": [],
   "source": [
    "for file in file_name:\n",
    "    if \".csv\" in file and not os.path.exists(path + \"csv files/\" + file):\n",
    "        shutil.move(path + file, path + \"csv files/\" + file)\n",
    "    elif \".jpg\" in file and not os.path.exists(path + \"image files/\" + file):\n",
    "        shutil.move(path + file, path + \"image files/\" + file)\n",
    "    elif \".docx\" in file and not os.path.exists(path + \"text files/\" + file):\n",
    "        shutil.move(path + file, path + \"text files/\" + file)"
   ]
  }
 ],
 "metadata": {
  "kernelspec": {
   "display_name": "Python 3 (ipykernel)",
   "language": "python",
   "name": "python3"
  },
  "language_info": {
   "codemirror_mode": {
    "name": "ipython",
    "version": 3
   },
   "file_extension": ".py",
   "mimetype": "text/x-python",
   "name": "python",
   "nbconvert_exporter": "python",
   "pygments_lexer": "ipython3",
   "version": "3.12.4"
  }
 },
 "nbformat": 4,
 "nbformat_minor": 5
}
